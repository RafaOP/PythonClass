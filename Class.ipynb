{
 "cells": [
  {
   "cell_type": "markdown",
   "metadata": {},
   "source": [
    "## Requests\n",
    "\n",
    "O que é um **request**?\n",
    "Um request é um pedido de informação, normalmente a um website que oferece um serviço. Por exemplo, se você quer saber se um CEP é válido ou a qual endereço ele se refere, existe o webservice <a href=\"https://viacep.com.br/\" target=\"_blank\">Viacep</a>. Por exemplo, se você entrar com o link https://viacep.com.br/ws/36570047/json/ no navegador, ele irá te retornar uma resposta no formado JSON com dados referentes ao endereço do CEP 3657-047.\n",
    "\n",
    "\n",
    "Vamos começar importando a biblioteca python <a href=\"https://requests.readthedocs.io/en/master/\" target=\"_blank\">**requests**</a>:"
   ]
  },
  {
   "cell_type": "code",
   "execution_count": null,
   "metadata": {},
   "outputs": [],
   "source": [
    "import requests"
   ]
  },
  {
   "cell_type": "markdown",
   "metadata": {},
   "source": [
    "Feito isso, vamos criar a função `achaEndereco` que recebe um CEP e retorna um endereço como resposta:"
   ]
  },
  {
   "cell_type": "code",
   "execution_count": null,
   "metadata": {},
   "outputs": [],
   "source": [
    "def achaEndereco(cep):\n",
    "    resposta = requests.get('http://viacep.com.br/ws/' + cep + '/json/')\n",
    "    resposta = resposta.json()\n",
    "\n",
    "    return resposta"
   ]
  },
  {
   "cell_type": "markdown",
   "metadata": {},
   "source": [
    "Agora, quando executamos a função enviando um CEP como parâmetro temos o endereço referente ao CEP como um dicionário python:"
   ]
  },
  {
   "cell_type": "code",
   "execution_count": null,
   "metadata": {},
   "outputs": [],
   "source": [
    "achaEndereco('36570047')"
   ]
  },
  {
   "cell_type": "markdown",
   "metadata": {},
   "source": [
    "Através do mesmo serviço também é possível fazer o caminho contrário e encontrar um CEP a partir de um determinado endereço:"
   ]
  },
  {
   "cell_type": "code",
   "execution_count": null,
   "metadata": {},
   "outputs": [],
   "source": [
    "def achaCEP(estado, cidade, rua):\n",
    "    resposta = requests.get('http://viacep.com.br/ws/' + estado + '/' + cidade + '/' + rua + '/json/')\n",
    "    resposta = resposta.json()\n",
    "\n",
    "    return resposta"
   ]
  },
  {
   "cell_type": "markdown",
   "metadata": {},
   "source": [
    "Como é possível que um endereço tenha mais de um CEP (no caso de um endereço incompleto, por exemplo), o serviço retorna uma lista de possíveis endereços:"
   ]
  },
  {
   "cell_type": "code",
   "execution_count": null,
   "metadata": {},
   "outputs": [],
   "source": [
    "achaCEP('MG', 'Viçosa', 'Avenida Bueno Brandão')"
   ]
  },
  {
   "cell_type": "markdown",
   "metadata": {},
   "source": [
    "Vamos agora utilizar um outro serviço interessante, o <a href=\"https://www.graphhopper.com/\">**GraphHopper**</a>. Com o GraphHopper é possível encontrar as coordenadas de um local a partir de uma busca pelo endereço, um recurso conhecido como _Geocoding_, entre outros recursos. Antes de tudo é necessário termos uma conta no site pois o serviçosa requer uma chave de desenvolvedor. Para as finalidades deste exercício, usarei minha própria chave. Para facilitar o uso da chave do código, vamos declará-la no código como uma constante:"
   ]
  },
  {
   "cell_type": "code",
   "execution_count": null,
   "metadata": {},
   "outputs": [],
   "source": [
    "GRAPHHOPPER_API_KEY = 'f9e77954-a5fd-416e-8087-1c1c456c6fc8'"
   ]
  },
  {
   "cell_type": "markdown",
   "metadata": {},
   "source": [
    "Vamos agora criar a função `achaCoord`, que recebe como parâmetro uma string de busca (um endereço) e retorna a coordenada mais provável para este endereço:"
   ]
  },
  {
   "cell_type": "code",
   "execution_count": 53,
   "metadata": {},
   "outputs": [],
   "source": [
    "def achaCoord(endereco):\n",
    "    locale = 'br'\n",
    "    url = 'https://graphhopper.com/api/1/geocode?q=' + endereco + '&locale=' + locale + '&key=' + GRAPHHOPPER_API_KEY\n",
    "    resposta = requests.get(url)\n",
    "    resposta = resposta.json()\n",
    "\n",
    "    return (resposta['hits'][0]['point']['lat'], resposta['hits'][0]['point']['lng'])"
   ]
  },
  {
   "cell_type": "markdown",
   "metadata": {},
   "source": [
    "Para entendermos como funciona essa função é preciso dar uma olhada na <a href=\"https://docs.graphhopper.com/#tag/Geocoding-API\" target=\"_blank\">documentação</a> do serviço.\n",
    "A URL, ou seja, o endereço web do serviço, é sempre 'https://graphhopper.com/api/1/geocode?', seguida de seus parâmetros, separados por '&': `q=query_de_busca`, `locale=br` para endereços localizados no Brasil e `key=chave`. O serviço retorna um JSON (convertido para um dicionário em python) com as chaves _hits_, que é uma lista de prováveis coordenadas, e _took_, que é o tempo que o serviço demorou para encontrar os resultados. Cada _hit_ encontrado tem é formado de diversos dados sobre o endereço e, entre eles, um ponto, que é um par de coordenadas (lat, lng), que é o que a função retorna:"
   ]
  },
  {
   "cell_type": "code",
   "execution_count": 56,
   "metadata": {},
   "outputs": [],
   "source": [
    "casa = achaCoord('Avenida Bueno Brandão, Viçosa - MG')"
   ]
  },
  {
   "cell_type": "code",
   "execution_count": null,
   "metadata": {},
   "outputs": [],
   "source": [
    "casa"
   ]
  },
  {
   "cell_type": "markdown",
   "metadata": {},
   "source": [
    "Agora vamos um pouquinho mais longe e usar uma outra biblioteca python para encontrar essa coordenada em um mapa. A biblioteca <a href=\"https://python-visualization.github.io/folium/\" target=\"_blank\">**Folium**</a> pode nos auxiliar nisso:"
   ]
  },
  {
   "cell_type": "code",
   "execution_count": null,
   "metadata": {},
   "outputs": [],
   "source": [
    "import folium"
   ]
  },
  {
   "cell_type": "markdown",
   "metadata": {},
   "source": [
    "A biblioteca **Folium** é um encapsulamento para que a biblioteca Javascript <a href=\"https://leafletjs.com/\" target=\"_blank\">**Leaflet**</a> possa ser usada em python. É uma ferramenta que permite utilizar diversos serviços de mapas, ou seja, você pode utilizar o serviços livre <a href=\"https://www.openstreetmap.org/\" target=\"_blank\">**OpenStreetMap** (OSM)</a> para desenhar seu mapa, mas também pode utilizar serviços pagos como <a href=\"https://www.mapbox.com/\" target=\"_blank\">**Mapbox**</a>. Neste exemplo vamos utilizar o OSM, que é o padrão."
   ]
  },
  {
   "cell_type": "markdown",
   "metadata": {},
   "source": [
    "Para criar um mapa com o Folium basta uma linha de código:"
   ]
  },
  {
   "cell_type": "code",
   "execution_count": null,
   "metadata": {},
   "outputs": [],
   "source": [
    "m = folium.Map(location=casa, zoom_start=15)"
   ]
  },
  {
   "cell_type": "markdown",
   "metadata": {},
   "source": [
    "E com isso temos:"
   ]
  },
  {
   "cell_type": "code",
   "execution_count": 57,
   "metadata": {},
   "outputs": [
    {
     "data": {
      "text/html": [
       "<div style=\"width:100%;\"><div style=\"position:relative;width:100%;height:0;padding-bottom:60%;\"><iframe src=\"about:blank\" style=\"position:absolute;width:100%;height:100%;left:0;top:0;border:none !important;\" data-html=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 onload=\"this.contentDocument.open();this.contentDocument.write(atob(this.getAttribute('data-html')));this.contentDocument.close();\" allowfullscreen webkitallowfullscreen mozallowfullscreen></iframe></div></div>"
      ],
      "text/plain": [
       "<folium.folium.Map at 0x7f5a81a0b6a0>"
      ]
     },
     "execution_count": 57,
     "metadata": {},
     "output_type": "execute_result"
    }
   ],
   "source": [
    "m"
   ]
  },
  {
   "cell_type": "code",
   "execution_count": null,
   "metadata": {},
   "outputs": [],
   "source": [
    "folium.Marker(coord, icon=folium.Icon(icon='home', color='blue', prefix='fa')).add_to(m)"
   ]
  },
  {
   "cell_type": "code",
   "execution_count": null,
   "metadata": {},
   "outputs": [],
   "source": []
  }
 ],
 "metadata": {
  "kernelspec": {
   "display_name": "Python 3",
   "language": "python",
   "name": "python3"
  },
  "language_info": {
   "codemirror_mode": {
    "name": "ipython",
    "version": 3
   },
   "file_extension": ".py",
   "mimetype": "text/x-python",
   "name": "python",
   "nbconvert_exporter": "python",
   "pygments_lexer": "ipython3",
   "version": "3.6.9"
  }
 },
 "nbformat": 4,
 "nbformat_minor": 4
}
