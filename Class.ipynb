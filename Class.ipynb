{
 "cells": [
  {
   "cell_type": "markdown",
   "metadata": {},
   "source": [
    "## Requests\n",
    "\n",
    "O que é um **request**?\n",
    "Um request é um pedido de informação, normalmente a um website que oferece um serviço. Por exemplo, se você quer saber se um CEP é válido ou a qual endereço ele se refere, existe o webservice <a href=\"https://viacep.com.br/\" target=\"_blank\">Viacep</a>. Por exemplo, se você entrar com o link https://viacep.com.br/ws/36570047/json/ no navegador, ele irá te retornar uma resposta no formado JSON com dados referentes ao endereço do CEP 3657-047.\n",
    "\n",
    "\n",
    "Vamos começar importando a biblioteca python <a href=\"https://requests.readthedocs.io/en/master/\" target=\"_blank\">**requests**</a>:"
   ]
  },
  {
   "cell_type": "code",
   "execution_count": 5,
   "metadata": {},
   "outputs": [],
   "source": [
    "import requests"
   ]
  },
  {
   "cell_type": "markdown",
   "metadata": {},
   "source": [
    "Feito isso, vamos criar a função `achaEndereco` que recebe um CEP e retorna um endereço como resposta:"
   ]
  },
  {
   "cell_type": "code",
   "execution_count": 6,
   "metadata": {},
   "outputs": [],
   "source": [
    "def achaEndereco(cep):\n",
    "    resposta = requests.get('http://viacep.com.br/ws/' + cep + '/json/')\n",
    "    resposta = resposta.json()\n",
    "\n",
    "    return resposta"
   ]
  },
  {
   "cell_type": "markdown",
   "metadata": {},
   "source": [
    "Agora, quando executamos a função enviando um CEP como parâmetro temos o endereço referente ao CEP como um dicionário python:"
   ]
  },
  {
   "cell_type": "code",
   "execution_count": 7,
   "metadata": {},
   "outputs": [
    {
     "data": {
      "text/plain": [
       "{'cep': '36570-047',\n",
       " 'logradouro': 'Avenida Bueno Brandão',\n",
       " 'complemento': '',\n",
       " 'bairro': 'Centro',\n",
       " 'localidade': 'Viçosa',\n",
       " 'uf': 'MG',\n",
       " 'ibge': '3171303',\n",
       " 'gia': '',\n",
       " 'ddd': '31',\n",
       " 'siafi': '5427'}"
      ]
     },
     "execution_count": 7,
     "metadata": {},
     "output_type": "execute_result"
    }
   ],
   "source": [
    "achaEndereco('36570047')"
   ]
  },
  {
   "cell_type": "markdown",
   "metadata": {},
   "source": [
    "Através do mesmo serviço também é possível fazer o caminho contrário e encontrar um CEP a partir de um determinado endereço:"
   ]
  },
  {
   "cell_type": "code",
   "execution_count": 8,
   "metadata": {},
   "outputs": [],
   "source": [
    "def achaCEP(estado, cidade, rua):\n",
    "    resposta = requests.get('http://viacep.com.br/ws/' + estado + '/' + cidade + '/' + rua + '/json/')\n",
    "    resposta = resposta.json()\n",
    "\n",
    "    return resposta"
   ]
  },
  {
   "cell_type": "markdown",
   "metadata": {},
   "source": [
    "Como é possível que um endereço tenha mais de um CEP (no caso de um endereço incompleto, por exemplo), o serviço retorna uma lista de possíveis endereços:"
   ]
  },
  {
   "cell_type": "code",
   "execution_count": 9,
   "metadata": {},
   "outputs": [
    {
     "data": {
      "text/plain": [
       "[{'cep': '36570-047',\n",
       "  'logradouro': 'Avenida Bueno Brandão',\n",
       "  'complemento': '',\n",
       "  'bairro': 'Centro',\n",
       "  'localidade': 'Viçosa',\n",
       "  'uf': 'MG',\n",
       "  'ibge': '3171303',\n",
       "  'gia': '',\n",
       "  'ddd': '31',\n",
       "  'siafi': '5427'},\n",
       " {'cep': '36570-970',\n",
       "  'logradouro': 'Avenida Bueno Brandão 678',\n",
       "  'complemento': '',\n",
       "  'bairro': 'Centro',\n",
       "  'localidade': 'Viçosa',\n",
       "  'uf': 'MG',\n",
       "  'ibge': '3171303',\n",
       "  'gia': '',\n",
       "  'ddd': '31',\n",
       "  'siafi': '5427'},\n",
       " {'cep': '36571-959',\n",
       "  'logradouro': 'Avenida Bueno Brandão 678',\n",
       "  'complemento': '',\n",
       "  'bairro': 'Centro',\n",
       "  'localidade': 'Viçosa',\n",
       "  'uf': 'MG',\n",
       "  'ibge': '3171303',\n",
       "  'gia': '',\n",
       "  'ddd': '31',\n",
       "  'siafi': '5427'}]"
      ]
     },
     "execution_count": 9,
     "metadata": {},
     "output_type": "execute_result"
    }
   ],
   "source": [
    "achaCEP('MG', 'Viçosa', 'Avenida Bueno Brandão')"
   ]
  },
  {
   "cell_type": "markdown",
   "metadata": {},
   "source": [
    "Vamos agora utilizar um outro serviço interessante, o <a href=\"https://www.graphhopper.com/\">**GraphHopper**</a>. Com o GraphHopper é possível encontrar as coordenadas de um local a partir de uma busca pelo endereço, um recurso conhecido como *Geocoding*, entre outros recursos. Antes de tudo é necessário termos uma conta no site pois o serviços requer uma chave de desenvolvedor. Para as finalidades deste exercício, usarei minha própria chave. Para facilitar o uso da chave do código, vamos declará-la no código como uma constante:"
   ]
  },
  {
   "cell_type": "code",
   "execution_count": 10,
   "metadata": {},
   "outputs": [],
   "source": [
    "GRAPHHOPPER_API_KEY = 'f9e77954-a5fd-416e-8087-1c1c456c6fc8'"
   ]
  },
  {
   "cell_type": "markdown",
   "metadata": {},
   "source": [
    "Vamos agora criar a função `achaCoord`, que recebe como parâmetro uma string de busca (um endereço) e retorna a coordenada mais provável para este endereço:"
   ]
  },
  {
   "cell_type": "code",
   "execution_count": 11,
   "metadata": {},
   "outputs": [],
   "source": [
    "def achaCoord(endereco):\n",
    "    locale = 'br'\n",
    "    url = 'https://graphhopper.com/api/1/geocode?q=' + endereco + '&locale=' + locale + '&key=' + GRAPHHOPPER_API_KEY\n",
    "    resposta = requests.get(url)\n",
    "    resposta = resposta.json()\n",
    "\n",
    "    return (resposta['hits'][0]['point']['lat'], resposta['hits'][0]['point']['lng'])"
   ]
  },
  {
   "cell_type": "markdown",
   "metadata": {},
   "source": [
    "Para entendermos como funciona essa função é preciso dar uma olhada na <a href=\"https://docs.graphhopper.com/#tag/Geocoding-API\" target=\"_blank\">documentação</a> do serviço.\n",
    "A URL, ou seja, o endereço web do serviço, é sempre 'https://graphhopper.com/api/1/geocode?', seguida de seus parâmetros, separados por '&': `q=query_de_busca`, `locale=br` para endereços localizados no Brasil e `key=chave`. O serviço retorna um JSON (convertido para um dicionário em python) com as chaves _hits_, que é uma lista de prováveis coordenadas, e _took_, que é o tempo que o serviço demorou para encontrar os resultados. Cada _hit_ encontrado tem é formado de diversos dados sobre o endereço e, entre eles, um ponto, que é um par de coordenadas (lat, lng), que é o que a função retorna:"
   ]
  },
  {
   "cell_type": "code",
   "execution_count": 12,
   "metadata": {},
   "outputs": [],
   "source": [
    "casa = achaCoord('Avenida Bueno Brandão, Viçosa - MG')"
   ]
  },
  {
   "cell_type": "code",
   "execution_count": 13,
   "metadata": {},
   "outputs": [
    {
     "data": {
      "text/plain": [
       "(-20.7547399, -42.8820165)"
      ]
     },
     "execution_count": 13,
     "metadata": {},
     "output_type": "execute_result"
    }
   ],
   "source": [
    "casa"
   ]
  },
  {
   "cell_type": "markdown",
   "metadata": {},
   "source": [
    "Agora vamos um pouquinho mais longe e usar uma outra biblioteca python para encontrar essa coordenada em um mapa. A biblioteca <a href=\"https://python-visualization.github.io/folium/\" target=\"_blank\">**Folium**</a> pode nos auxiliar nisso:"
   ]
  },
  {
   "cell_type": "code",
   "execution_count": 14,
   "metadata": {},
   "outputs": [],
   "source": [
    "import folium"
   ]
  },
  {
   "cell_type": "markdown",
   "metadata": {},
   "source": [
    "A biblioteca **Folium** é um encapsulamento para que a biblioteca Javascript <a href=\"https://leafletjs.com/\" target=\"_blank\">**Leaflet**</a> possa ser usada em python. É uma ferramenta que permite utilizar diversos serviços de mapas, ou seja, você pode utilizar o serviços livre <a href=\"https://www.openstreetmap.org/\" target=\"_blank\">**OpenStreetMap** (OSM)</a> para desenhar seu mapa, mas também pode utilizar serviços pagos como <a href=\"https://www.mapbox.com/\" target=\"_blank\">**Mapbox**</a>. Neste exemplo vamos utilizar o OSM, que é o padrão."
   ]
  },
  {
   "cell_type": "markdown",
   "metadata": {},
   "source": [
    "Para criar um mapa com o Folium basta uma linha de código:"
   ]
  },
  {
   "cell_type": "code",
   "execution_count": 15,
   "metadata": {},
   "outputs": [],
   "source": [
    "m = folium.Map(location=casa, zoom_start=15)"
   ]
  },
  {
   "cell_type": "markdown",
   "metadata": {},
   "source": [
    "A linha acima cria um mapa centralizado na coordenada da variável `casa`. E com isso temos:"
   ]
  },
  {
   "cell_type": "code",
   "execution_count": 16,
   "metadata": {},
   "outputs": [
    {
     "data": {
      "text/html": [
       "<div style=\"width:100%;\"><div style=\"position:relative;width:100%;height:0;padding-bottom:60%;\"><iframe src=\"about:blank\" style=\"position:absolute;width:100%;height:100%;left:0;top:0;border:none !important;\" data-html=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 onload=\"this.contentDocument.open();this.contentDocument.write(atob(this.getAttribute('data-html')));this.contentDocument.close();\" allowfullscreen webkitallowfullscreen mozallowfullscreen></iframe></div></div>"
      ],
      "text/plain": [
       "<folium.folium.Map at 0x7f364c12c3c8>"
      ]
     },
     "execution_count": 16,
     "metadata": {},
     "output_type": "execute_result"
    }
   ],
   "source": [
    "m"
   ]
  },
  {
   "cell_type": "markdown",
   "metadata": {},
   "source": [
    "Usando o código abaixo é possível adicionar um marcador na coordenada encontrada anteriormente:"
   ]
  },
  {
   "cell_type": "code",
   "execution_count": 17,
   "metadata": {},
   "outputs": [
    {
     "data": {
      "text/html": [
       "<div style=\"width:100%;\"><div style=\"position:relative;width:100%;height:0;padding-bottom:60%;\"><iframe src=\"about:blank\" style=\"position:absolute;width:100%;height:100%;left:0;top:0;border:none !important;\" data-html=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 onload=\"this.contentDocument.open();this.contentDocument.write(atob(this.getAttribute('data-html')));this.contentDocument.close();\" allowfullscreen webkitallowfullscreen mozallowfullscreen></iframe></div></div>"
      ],
      "text/plain": [
       "<folium.folium.Map at 0x7f364c12c3c8>"
      ]
     },
     "execution_count": 17,
     "metadata": {},
     "output_type": "execute_result"
    }
   ],
   "source": [
    "folium.Marker(casa, icon=folium.Icon(icon='home', color='blue', prefix='fa')).add_to(m)\n",
    "m"
   ]
  },
  {
   "cell_type": "markdown",
   "metadata": {},
   "source": [
    "E se eu quiser desenhar no mapa o caminho de casa até a Univiçosa? Utilizando essas duas ferramentas isso é possível. Vamos criar uma função `achaCaminho(a, b)`, que recebe duas coordenadas e retorna o caminho entre elas:"
   ]
  },
  {
   "cell_type": "code",
   "execution_count": 20,
   "metadata": {},
   "outputs": [],
   "source": [
    "def achaCaminho(a, b):\n",
    "    coords = 'point=' + str(a[0]) + ',' + str(a[1]) + '&point=' + str(b[0]) + ',' + str(b[1])\n",
    "    params = 'instructions=false&points_encoded=true&type=json&debug=true'\n",
    "    url = 'https://graphhopper.com/api/1/route'\n",
    "    route = requests.get(url + '?' + coords + '&' + params + '&key=' + GRAPHHOPPER_API_KEY)\n",
    "    route = route.json()\n",
    "\n",
    "    return route['paths'][0]['points']"
   ]
  },
  {
   "cell_type": "markdown",
   "metadata": {},
   "source": [
    "Para entender melhor a função acima é preciso olhar a documentação da API da ferramenta GraphHopper, mas explicando de maneira simples, a linha `return route['paths'][0]['points']` retorna os pontos "
   ]
  },
  {
   "cell_type": "code",
   "execution_count": 29,
   "metadata": {},
   "outputs": [
    {
     "data": {
      "text/html": [
       "<div style=\"width:100%;\"><div style=\"position:relative;width:100%;height:0;padding-bottom:60%;\"><iframe src=\"about:blank\" style=\"position:absolute;width:100%;height:100%;left:0;top:0;border:none !important;\" data-html=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 onload=\"this.contentDocument.open();this.contentDocument.write(atob(this.getAttribute('data-html')));this.contentDocument.close();\" allowfullscreen webkitallowfullscreen mozallowfullscreen></iframe></div></div>"
      ],
      "text/plain": [
       "<folium.folium.Map at 0x7f364c0836d8>"
      ]
     },
     "execution_count": 29,
     "metadata": {},
     "output_type": "execute_result"
    }
   ],
   "source": [
    "# Primeiro vamos inicializar novamente um mapa centralizado nas coordenadas de casa\n",
    "m = folium.Map(location=casa, zoom_start=13)\n",
    "\n",
    "# Para facilitar, estas são as coordenadas da Univiçosa\n",
    "univicosa = (-20.728718, -42.865061)\n",
    "\n",
    "# Adicionar um marcador em casa e outro na univiçosa\n",
    "folium.Marker(casa, icon=folium.Icon(icon='home', color='blue', prefix='fa')).add_to(m)\n",
    "folium.Marker(univicosa, icon=folium.Icon(icon='graduation-cap', color='black', prefix='fa')).add_to(m)\n",
    "\n",
    "# Usando a função que escrevemos...\n",
    "caminho = achaCaminho(casa, univicosa)\n",
    "\n",
    "# Aqui decodificamos os pontos para uma linha e a adicionamos ao mapa\n",
    "import polyline\n",
    "locations = polyline.decode(caminho)\n",
    "folium.PolyLine(locations).add_to(m)\n",
    "\n",
    "# Agora é só imprimir\n",
    "m"
   ]
  }
 ],
 "metadata": {
  "kernelspec": {
   "display_name": "Python 3",
   "language": "python",
   "name": "python3"
  },
  "language_info": {
   "codemirror_mode": {
    "name": "ipython",
    "version": 3
   },
   "file_extension": ".py",
   "mimetype": "text/x-python",
   "name": "python",
   "nbconvert_exporter": "python",
   "pygments_lexer": "ipython3",
   "version": "3.6.9"
  }
 },
 "nbformat": 4,
 "nbformat_minor": 4
}
